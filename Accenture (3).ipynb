{
 "cells": [
  {
   "cell_type": "code",
   "execution_count": 78,
   "id": "010b5b5d-9e66-4e45-8d7a-409dc81df6d7",
   "metadata": {},
   "outputs": [],
   "source": [
    "import pandas as pd\n",
    "import numpy as np\n",
    "import matplotlib.pyplot as plt\n",
    "%matplotlib inline\n",
    "import seaborn as sns"
   ]
  },
  {
   "cell_type": "markdown",
   "id": "45a2471f-e77c-4884-8595-1ea4fa458f13",
   "metadata": {},
   "source": [
    "Operations on Content Dataset"
   ]
  },
  {
   "cell_type": "code",
   "execution_count": 79,
   "id": "555b125a-9045-4332-808d-209184ebbc6a",
   "metadata": {},
   "outputs": [],
   "source": [
    "df=pd.read_csv('/Users/phaneendrabathina/Downloads/Content_orig.csv')"
   ]
  },
  {
   "cell_type": "code",
   "execution_count": 80,
   "id": "05bb2eea-851d-4e4e-9404-1a18e968e9af",
   "metadata": {},
   "outputs": [
    {
     "data": {
      "text/html": [
       "<div>\n",
       "<style scoped>\n",
       "    .dataframe tbody tr th:only-of-type {\n",
       "        vertical-align: middle;\n",
       "    }\n",
       "\n",
       "    .dataframe tbody tr th {\n",
       "        vertical-align: top;\n",
       "    }\n",
       "\n",
       "    .dataframe thead th {\n",
       "        text-align: right;\n",
       "    }\n",
       "</style>\n",
       "<table border=\"1\" class=\"dataframe\">\n",
       "  <thead>\n",
       "    <tr style=\"text-align: right;\">\n",
       "      <th></th>\n",
       "      <th>Unnamed: 0</th>\n",
       "      <th>Content ID</th>\n",
       "      <th>User ID</th>\n",
       "      <th>Type</th>\n",
       "      <th>Category</th>\n",
       "      <th>URL</th>\n",
       "    </tr>\n",
       "  </thead>\n",
       "  <tbody>\n",
       "    <tr>\n",
       "      <th>0</th>\n",
       "      <td>0</td>\n",
       "      <td>97522e57-d9ab-4bd6-97bf-c24d952602d2</td>\n",
       "      <td>8d3cd87d-8a31-4935-9a4f-b319bfe05f31</td>\n",
       "      <td>photo</td>\n",
       "      <td>Studying</td>\n",
       "      <td>https://socialbuzz.cdn.com/content/storage/975...</td>\n",
       "    </tr>\n",
       "    <tr>\n",
       "      <th>1</th>\n",
       "      <td>1</td>\n",
       "      <td>9f737e0a-3cdd-4d29-9d24-753f4e3be810</td>\n",
       "      <td>beb1f34e-7870-46d6-9fc7-2e12eb83ce43</td>\n",
       "      <td>photo</td>\n",
       "      <td>healthy eating</td>\n",
       "      <td>https://socialbuzz.cdn.com/content/storage/9f7...</td>\n",
       "    </tr>\n",
       "    <tr>\n",
       "      <th>2</th>\n",
       "      <td>2</td>\n",
       "      <td>230c4e4d-70c3-461d-b42c-ec09396efb3f</td>\n",
       "      <td>a5c65404-5894-4b87-82f2-d787cbee86b4</td>\n",
       "      <td>photo</td>\n",
       "      <td>healthy eating</td>\n",
       "      <td>https://socialbuzz.cdn.com/content/storage/230...</td>\n",
       "    </tr>\n",
       "    <tr>\n",
       "      <th>3</th>\n",
       "      <td>3</td>\n",
       "      <td>356fff80-da4d-4785-9f43-bc1261031dc6</td>\n",
       "      <td>9fb4ce88-fac1-406c-8544-1a899cee7aaf</td>\n",
       "      <td>photo</td>\n",
       "      <td>technology</td>\n",
       "      <td>https://socialbuzz.cdn.com/content/storage/356...</td>\n",
       "    </tr>\n",
       "    <tr>\n",
       "      <th>4</th>\n",
       "      <td>4</td>\n",
       "      <td>01ab84dd-6364-4236-abbb-3f237db77180</td>\n",
       "      <td>e206e31b-5f85-4964-b6ea-d7ee5324def1</td>\n",
       "      <td>video</td>\n",
       "      <td>food</td>\n",
       "      <td>https://socialbuzz.cdn.com/content/storage/01a...</td>\n",
       "    </tr>\n",
       "  </tbody>\n",
       "</table>\n",
       "</div>"
      ],
      "text/plain": [
       "   Unnamed: 0                            Content ID  \\\n",
       "0           0  97522e57-d9ab-4bd6-97bf-c24d952602d2   \n",
       "1           1  9f737e0a-3cdd-4d29-9d24-753f4e3be810   \n",
       "2           2  230c4e4d-70c3-461d-b42c-ec09396efb3f   \n",
       "3           3  356fff80-da4d-4785-9f43-bc1261031dc6   \n",
       "4           4  01ab84dd-6364-4236-abbb-3f237db77180   \n",
       "\n",
       "                                User ID   Type        Category  \\\n",
       "0  8d3cd87d-8a31-4935-9a4f-b319bfe05f31  photo        Studying   \n",
       "1  beb1f34e-7870-46d6-9fc7-2e12eb83ce43  photo  healthy eating   \n",
       "2  a5c65404-5894-4b87-82f2-d787cbee86b4  photo  healthy eating   \n",
       "3  9fb4ce88-fac1-406c-8544-1a899cee7aaf  photo      technology   \n",
       "4  e206e31b-5f85-4964-b6ea-d7ee5324def1  video            food   \n",
       "\n",
       "                                                 URL  \n",
       "0  https://socialbuzz.cdn.com/content/storage/975...  \n",
       "1  https://socialbuzz.cdn.com/content/storage/9f7...  \n",
       "2  https://socialbuzz.cdn.com/content/storage/230...  \n",
       "3  https://socialbuzz.cdn.com/content/storage/356...  \n",
       "4  https://socialbuzz.cdn.com/content/storage/01a...  "
      ]
     },
     "execution_count": 80,
     "metadata": {},
     "output_type": "execute_result"
    }
   ],
   "source": [
    "df.head()"
   ]
  },
  {
   "cell_type": "code",
   "execution_count": 81,
   "id": "46daae02-b9df-4ca1-a1fd-2d2c18dc08c4",
   "metadata": {},
   "outputs": [
    {
     "data": {
      "text/plain": [
       "Unnamed: 0      0\n",
       "Content ID      0\n",
       "User ID         0\n",
       "Type            0\n",
       "Category        0\n",
       "URL           199\n",
       "dtype: int64"
      ]
     },
     "execution_count": 81,
     "metadata": {},
     "output_type": "execute_result"
    }
   ],
   "source": [
    "df.isnull().sum()"
   ]
  },
  {
   "cell_type": "markdown",
   "id": "12808d34-546b-464b-8055-418bfd00fde6",
   "metadata": {},
   "source": [
    "URL column contains 199 NULL values and also for this analysis, We can clearly delete URL column since its not useful for quantitative analysis."
   ]
  },
  {
   "cell_type": "code",
   "execution_count": 82,
   "id": "d9ff9aab-afe8-4bc2-bf27-367a329599e3",
   "metadata": {},
   "outputs": [],
   "source": [
    "df.drop(columns=['URL'],inplace=True)"
   ]
  },
  {
   "cell_type": "code",
   "execution_count": 83,
   "id": "aebd03dc-b726-4593-96ef-0538c21fbfae",
   "metadata": {},
   "outputs": [
    {
     "data": {
      "text/plain": [
       "Unnamed: 0    0\n",
       "Content ID    0\n",
       "User ID       0\n",
       "Type          0\n",
       "Category      0\n",
       "dtype: int64"
      ]
     },
     "execution_count": 83,
     "metadata": {},
     "output_type": "execute_result"
    }
   ],
   "source": [
    "df.isnull().sum()"
   ]
  },
  {
   "cell_type": "code",
   "execution_count": 84,
   "id": "ed241c45-0b76-464c-b1d0-91cd0d01c7e7",
   "metadata": {},
   "outputs": [
    {
     "data": {
      "text/plain": [
       "(1000, 5)"
      ]
     },
     "execution_count": 84,
     "metadata": {},
     "output_type": "execute_result"
    }
   ],
   "source": [
    "df.shape"
   ]
  },
  {
   "cell_type": "markdown",
   "id": "fa2a6a0d-ae29-4d5e-a36b-922f80a5ca64",
   "metadata": {},
   "source": [
    "The Content dataset has zero Null values after dropping URL column."
   ]
  },
  {
   "cell_type": "code",
   "execution_count": 85,
   "id": "a104d1c5-8629-4717-a1ed-e2154e79770d",
   "metadata": {},
   "outputs": [
    {
     "data": {
      "text/plain": [
       "0      False\n",
       "1      False\n",
       "2      False\n",
       "3      False\n",
       "4      False\n",
       "       ...  \n",
       "995    False\n",
       "996    False\n",
       "997    False\n",
       "998    False\n",
       "999    False\n",
       "Length: 1000, dtype: bool"
      ]
     },
     "execution_count": 85,
     "metadata": {},
     "output_type": "execute_result"
    }
   ],
   "source": [
    "df.duplicated()"
   ]
  },
  {
   "cell_type": "code",
   "execution_count": 86,
   "id": "5352f96f-dd12-4217-8c68-bd361b8fa90a",
   "metadata": {},
   "outputs": [
    {
     "data": {
      "text/html": [
       "<div>\n",
       "<style scoped>\n",
       "    .dataframe tbody tr th:only-of-type {\n",
       "        vertical-align: middle;\n",
       "    }\n",
       "\n",
       "    .dataframe tbody tr th {\n",
       "        vertical-align: top;\n",
       "    }\n",
       "\n",
       "    .dataframe thead th {\n",
       "        text-align: right;\n",
       "    }\n",
       "</style>\n",
       "<table border=\"1\" class=\"dataframe\">\n",
       "  <thead>\n",
       "    <tr style=\"text-align: right;\">\n",
       "      <th></th>\n",
       "      <th>Unnamed: 0</th>\n",
       "      <th>Content ID</th>\n",
       "      <th>User ID</th>\n",
       "      <th>Content Type</th>\n",
       "      <th>Category</th>\n",
       "    </tr>\n",
       "  </thead>\n",
       "  <tbody>\n",
       "    <tr>\n",
       "      <th>0</th>\n",
       "      <td>0</td>\n",
       "      <td>97522e57-d9ab-4bd6-97bf-c24d952602d2</td>\n",
       "      <td>8d3cd87d-8a31-4935-9a4f-b319bfe05f31</td>\n",
       "      <td>photo</td>\n",
       "      <td>Studying</td>\n",
       "    </tr>\n",
       "    <tr>\n",
       "      <th>1</th>\n",
       "      <td>1</td>\n",
       "      <td>9f737e0a-3cdd-4d29-9d24-753f4e3be810</td>\n",
       "      <td>beb1f34e-7870-46d6-9fc7-2e12eb83ce43</td>\n",
       "      <td>photo</td>\n",
       "      <td>healthy eating</td>\n",
       "    </tr>\n",
       "    <tr>\n",
       "      <th>2</th>\n",
       "      <td>2</td>\n",
       "      <td>230c4e4d-70c3-461d-b42c-ec09396efb3f</td>\n",
       "      <td>a5c65404-5894-4b87-82f2-d787cbee86b4</td>\n",
       "      <td>photo</td>\n",
       "      <td>healthy eating</td>\n",
       "    </tr>\n",
       "    <tr>\n",
       "      <th>3</th>\n",
       "      <td>3</td>\n",
       "      <td>356fff80-da4d-4785-9f43-bc1261031dc6</td>\n",
       "      <td>9fb4ce88-fac1-406c-8544-1a899cee7aaf</td>\n",
       "      <td>photo</td>\n",
       "      <td>technology</td>\n",
       "    </tr>\n",
       "    <tr>\n",
       "      <th>4</th>\n",
       "      <td>4</td>\n",
       "      <td>01ab84dd-6364-4236-abbb-3f237db77180</td>\n",
       "      <td>e206e31b-5f85-4964-b6ea-d7ee5324def1</td>\n",
       "      <td>video</td>\n",
       "      <td>food</td>\n",
       "    </tr>\n",
       "    <tr>\n",
       "      <th>...</th>\n",
       "      <td>...</td>\n",
       "      <td>...</td>\n",
       "      <td>...</td>\n",
       "      <td>...</td>\n",
       "      <td>...</td>\n",
       "    </tr>\n",
       "    <tr>\n",
       "      <th>995</th>\n",
       "      <td>995</td>\n",
       "      <td>b4cef9ef-627b-41d7-a051-5961b0204ebb</td>\n",
       "      <td>5b62e10e-3c19-4d28-a57c-e9bdc3d6758d</td>\n",
       "      <td>video</td>\n",
       "      <td>public speaking</td>\n",
       "    </tr>\n",
       "    <tr>\n",
       "      <th>996</th>\n",
       "      <td>996</td>\n",
       "      <td>7a79f4e4-3b7d-44dc-bdef-bc990740252c</td>\n",
       "      <td>4fe420fa-a193-4408-bd5d-62a020233609</td>\n",
       "      <td>GIF</td>\n",
       "      <td>technology</td>\n",
       "    </tr>\n",
       "    <tr>\n",
       "      <th>997</th>\n",
       "      <td>997</td>\n",
       "      <td>435007a5-6261-4d8b-b0a4-55fdc189754b</td>\n",
       "      <td>35d6a1f3-e358-4d4b-8074-05f3b7f35c2a</td>\n",
       "      <td>audio</td>\n",
       "      <td>veganism</td>\n",
       "    </tr>\n",
       "    <tr>\n",
       "      <th>998</th>\n",
       "      <td>998</td>\n",
       "      <td>4e4c9690-c013-4ee7-9e66-943d8cbd27b7</td>\n",
       "      <td>b9bcd994-f000-4f6b-87fc-caae08acfaa1</td>\n",
       "      <td>GIF</td>\n",
       "      <td>culture</td>\n",
       "    </tr>\n",
       "    <tr>\n",
       "      <th>999</th>\n",
       "      <td>999</td>\n",
       "      <td>75d6b589-7fae-4a6d-b0d0-752845150e56</td>\n",
       "      <td>b8c653b5-0118-4d7e-9bde-07c2de90f0ff</td>\n",
       "      <td>audio</td>\n",
       "      <td>technology</td>\n",
       "    </tr>\n",
       "  </tbody>\n",
       "</table>\n",
       "<p>1000 rows × 5 columns</p>\n",
       "</div>"
      ],
      "text/plain": [
       "     Unnamed: 0                            Content ID  \\\n",
       "0             0  97522e57-d9ab-4bd6-97bf-c24d952602d2   \n",
       "1             1  9f737e0a-3cdd-4d29-9d24-753f4e3be810   \n",
       "2             2  230c4e4d-70c3-461d-b42c-ec09396efb3f   \n",
       "3             3  356fff80-da4d-4785-9f43-bc1261031dc6   \n",
       "4             4  01ab84dd-6364-4236-abbb-3f237db77180   \n",
       "..          ...                                   ...   \n",
       "995         995  b4cef9ef-627b-41d7-a051-5961b0204ebb   \n",
       "996         996  7a79f4e4-3b7d-44dc-bdef-bc990740252c   \n",
       "997         997  435007a5-6261-4d8b-b0a4-55fdc189754b   \n",
       "998         998  4e4c9690-c013-4ee7-9e66-943d8cbd27b7   \n",
       "999         999  75d6b589-7fae-4a6d-b0d0-752845150e56   \n",
       "\n",
       "                                  User ID Content Type         Category  \n",
       "0    8d3cd87d-8a31-4935-9a4f-b319bfe05f31        photo         Studying  \n",
       "1    beb1f34e-7870-46d6-9fc7-2e12eb83ce43        photo   healthy eating  \n",
       "2    a5c65404-5894-4b87-82f2-d787cbee86b4        photo   healthy eating  \n",
       "3    9fb4ce88-fac1-406c-8544-1a899cee7aaf        photo       technology  \n",
       "4    e206e31b-5f85-4964-b6ea-d7ee5324def1        video             food  \n",
       "..                                    ...          ...              ...  \n",
       "995  5b62e10e-3c19-4d28-a57c-e9bdc3d6758d        video  public speaking  \n",
       "996  4fe420fa-a193-4408-bd5d-62a020233609          GIF       technology  \n",
       "997  35d6a1f3-e358-4d4b-8074-05f3b7f35c2a        audio         veganism  \n",
       "998  b9bcd994-f000-4f6b-87fc-caae08acfaa1          GIF          culture  \n",
       "999  b8c653b5-0118-4d7e-9bde-07c2de90f0ff        audio       technology  \n",
       "\n",
       "[1000 rows x 5 columns]"
      ]
     },
     "execution_count": 86,
     "metadata": {},
     "output_type": "execute_result"
    }
   ],
   "source": [
    "df.rename(columns={\"Type\":\"Content Type\"})"
   ]
  },
  {
   "cell_type": "code",
   "execution_count": 87,
   "id": "9674e98b-ef33-4f84-b3d7-dd7060766dd5",
   "metadata": {},
   "outputs": [],
   "source": [
    "df.rename(columns={\"Type\":\"Content Type\"},inplace=True)"
   ]
  },
  {
   "cell_type": "code",
   "execution_count": 88,
   "id": "4d4fbdef-bd91-4bef-8c38-04e6c17d076f",
   "metadata": {},
   "outputs": [],
   "source": [
    "df.drop(columns=['User ID'],inplace=True)"
   ]
  },
  {
   "cell_type": "markdown",
   "id": "26b2fbbf-fdde-4110-b660-5cc69a99da4d",
   "metadata": {},
   "source": [
    "There is no User ID column for the required data analysis so that row has been deleted."
   ]
  },
  {
   "cell_type": "code",
   "execution_count": 89,
   "id": "dfcb88fa-ce33-4bf9-a974-5b47bd0333d0",
   "metadata": {},
   "outputs": [
    {
     "data": {
      "text/html": [
       "<div>\n",
       "<style scoped>\n",
       "    .dataframe tbody tr th:only-of-type {\n",
       "        vertical-align: middle;\n",
       "    }\n",
       "\n",
       "    .dataframe tbody tr th {\n",
       "        vertical-align: top;\n",
       "    }\n",
       "\n",
       "    .dataframe thead th {\n",
       "        text-align: right;\n",
       "    }\n",
       "</style>\n",
       "<table border=\"1\" class=\"dataframe\">\n",
       "  <thead>\n",
       "    <tr style=\"text-align: right;\">\n",
       "      <th></th>\n",
       "      <th>Unnamed: 0</th>\n",
       "      <th>Content ID</th>\n",
       "      <th>Content Type</th>\n",
       "      <th>Category</th>\n",
       "    </tr>\n",
       "  </thead>\n",
       "  <tbody>\n",
       "    <tr>\n",
       "      <th>0</th>\n",
       "      <td>0</td>\n",
       "      <td>97522e57-d9ab-4bd6-97bf-c24d952602d2</td>\n",
       "      <td>photo</td>\n",
       "      <td>Studying</td>\n",
       "    </tr>\n",
       "    <tr>\n",
       "      <th>1</th>\n",
       "      <td>1</td>\n",
       "      <td>9f737e0a-3cdd-4d29-9d24-753f4e3be810</td>\n",
       "      <td>photo</td>\n",
       "      <td>healthy eating</td>\n",
       "    </tr>\n",
       "    <tr>\n",
       "      <th>2</th>\n",
       "      <td>2</td>\n",
       "      <td>230c4e4d-70c3-461d-b42c-ec09396efb3f</td>\n",
       "      <td>photo</td>\n",
       "      <td>healthy eating</td>\n",
       "    </tr>\n",
       "    <tr>\n",
       "      <th>3</th>\n",
       "      <td>3</td>\n",
       "      <td>356fff80-da4d-4785-9f43-bc1261031dc6</td>\n",
       "      <td>photo</td>\n",
       "      <td>technology</td>\n",
       "    </tr>\n",
       "    <tr>\n",
       "      <th>4</th>\n",
       "      <td>4</td>\n",
       "      <td>01ab84dd-6364-4236-abbb-3f237db77180</td>\n",
       "      <td>video</td>\n",
       "      <td>food</td>\n",
       "    </tr>\n",
       "  </tbody>\n",
       "</table>\n",
       "</div>"
      ],
      "text/plain": [
       "   Unnamed: 0                            Content ID Content Type  \\\n",
       "0           0  97522e57-d9ab-4bd6-97bf-c24d952602d2        photo   \n",
       "1           1  9f737e0a-3cdd-4d29-9d24-753f4e3be810        photo   \n",
       "2           2  230c4e4d-70c3-461d-b42c-ec09396efb3f        photo   \n",
       "3           3  356fff80-da4d-4785-9f43-bc1261031dc6        photo   \n",
       "4           4  01ab84dd-6364-4236-abbb-3f237db77180        video   \n",
       "\n",
       "         Category  \n",
       "0        Studying  \n",
       "1  healthy eating  \n",
       "2  healthy eating  \n",
       "3      technology  \n",
       "4            food  "
      ]
     },
     "execution_count": 89,
     "metadata": {},
     "output_type": "execute_result"
    }
   ],
   "source": [
    "df.head()"
   ]
  },
  {
   "cell_type": "code",
   "execution_count": 90,
   "id": "4ac5ecee-5046-4f53-8abd-3f63c4444fb8",
   "metadata": {},
   "outputs": [
    {
     "data": {
      "text/plain": [
       "(1000, 4)"
      ]
     },
     "execution_count": 90,
     "metadata": {},
     "output_type": "execute_result"
    }
   ],
   "source": [
    "df.shape"
   ]
  },
  {
   "cell_type": "code",
   "execution_count": 91,
   "id": "34335ec4-2ea1-4151-9988-8a4a958ca0fb",
   "metadata": {},
   "outputs": [
    {
     "data": {
      "text/plain": [
       "41"
      ]
     },
     "execution_count": 91,
     "metadata": {},
     "output_type": "execute_result"
    }
   ],
   "source": [
    "len(df['Category'].unique())"
   ]
  },
  {
   "cell_type": "markdown",
   "id": "3153a573-5967-4f0b-a44c-59e1542f1c36",
   "metadata": {},
   "source": [
    "Operations on Reactions Dataset"
   ]
  },
  {
   "cell_type": "code",
   "execution_count": 92,
   "id": "48791d78-bb98-447d-b3be-9cd5a748cd0f",
   "metadata": {},
   "outputs": [],
   "source": [
    "df1=pd.read_csv('/Users/phaneendrabathina/Downloads/Reactions_orig.csv')"
   ]
  },
  {
   "cell_type": "code",
   "execution_count": 93,
   "id": "045faa61-7249-41e4-8b26-5b9bb064d573",
   "metadata": {},
   "outputs": [
    {
     "data": {
      "text/html": [
       "<div>\n",
       "<style scoped>\n",
       "    .dataframe tbody tr th:only-of-type {\n",
       "        vertical-align: middle;\n",
       "    }\n",
       "\n",
       "    .dataframe tbody tr th {\n",
       "        vertical-align: top;\n",
       "    }\n",
       "\n",
       "    .dataframe thead th {\n",
       "        text-align: right;\n",
       "    }\n",
       "</style>\n",
       "<table border=\"1\" class=\"dataframe\">\n",
       "  <thead>\n",
       "    <tr style=\"text-align: right;\">\n",
       "      <th></th>\n",
       "      <th>Unnamed: 0</th>\n",
       "      <th>Content ID</th>\n",
       "      <th>User ID</th>\n",
       "      <th>Type</th>\n",
       "      <th>Datetime</th>\n",
       "    </tr>\n",
       "  </thead>\n",
       "  <tbody>\n",
       "    <tr>\n",
       "      <th>0</th>\n",
       "      <td>0</td>\n",
       "      <td>97522e57-d9ab-4bd6-97bf-c24d952602d2</td>\n",
       "      <td>NaN</td>\n",
       "      <td>NaN</td>\n",
       "      <td>2021-04-22 15:17:15</td>\n",
       "    </tr>\n",
       "    <tr>\n",
       "      <th>1</th>\n",
       "      <td>1</td>\n",
       "      <td>97522e57-d9ab-4bd6-97bf-c24d952602d2</td>\n",
       "      <td>5d454588-283d-459d-915d-c48a2cb4c27f</td>\n",
       "      <td>disgust</td>\n",
       "      <td>2020-11-07 09:43:50</td>\n",
       "    </tr>\n",
       "    <tr>\n",
       "      <th>2</th>\n",
       "      <td>2</td>\n",
       "      <td>97522e57-d9ab-4bd6-97bf-c24d952602d2</td>\n",
       "      <td>92b87fa5-f271-43e0-af66-84fac21052e6</td>\n",
       "      <td>dislike</td>\n",
       "      <td>2021-06-17 12:22:51</td>\n",
       "    </tr>\n",
       "    <tr>\n",
       "      <th>3</th>\n",
       "      <td>3</td>\n",
       "      <td>97522e57-d9ab-4bd6-97bf-c24d952602d2</td>\n",
       "      <td>163daa38-8b77-48c9-9af6-37a6c1447ac2</td>\n",
       "      <td>scared</td>\n",
       "      <td>2021-04-18 05:13:58</td>\n",
       "    </tr>\n",
       "    <tr>\n",
       "      <th>4</th>\n",
       "      <td>4</td>\n",
       "      <td>97522e57-d9ab-4bd6-97bf-c24d952602d2</td>\n",
       "      <td>34e8add9-0206-47fd-a501-037b994650a2</td>\n",
       "      <td>disgust</td>\n",
       "      <td>2021-01-06 19:13:01</td>\n",
       "    </tr>\n",
       "  </tbody>\n",
       "</table>\n",
       "</div>"
      ],
      "text/plain": [
       "   Unnamed: 0                            Content ID  \\\n",
       "0           0  97522e57-d9ab-4bd6-97bf-c24d952602d2   \n",
       "1           1  97522e57-d9ab-4bd6-97bf-c24d952602d2   \n",
       "2           2  97522e57-d9ab-4bd6-97bf-c24d952602d2   \n",
       "3           3  97522e57-d9ab-4bd6-97bf-c24d952602d2   \n",
       "4           4  97522e57-d9ab-4bd6-97bf-c24d952602d2   \n",
       "\n",
       "                                User ID     Type             Datetime  \n",
       "0                                   NaN      NaN  2021-04-22 15:17:15  \n",
       "1  5d454588-283d-459d-915d-c48a2cb4c27f  disgust  2020-11-07 09:43:50  \n",
       "2  92b87fa5-f271-43e0-af66-84fac21052e6  dislike  2021-06-17 12:22:51  \n",
       "3  163daa38-8b77-48c9-9af6-37a6c1447ac2   scared  2021-04-18 05:13:58  \n",
       "4  34e8add9-0206-47fd-a501-037b994650a2  disgust  2021-01-06 19:13:01  "
      ]
     },
     "execution_count": 93,
     "metadata": {},
     "output_type": "execute_result"
    }
   ],
   "source": [
    "df1.head()"
   ]
  },
  {
   "cell_type": "code",
   "execution_count": 94,
   "id": "63495913-cf10-4a95-a448-8b258492dca4",
   "metadata": {},
   "outputs": [
    {
     "data": {
      "text/plain": [
       "(25553, 5)"
      ]
     },
     "execution_count": 94,
     "metadata": {},
     "output_type": "execute_result"
    }
   ],
   "source": [
    "df1.shape"
   ]
  },
  {
   "cell_type": "markdown",
   "id": "04bea48a-18c0-40c1-8d89-1714a0dc7a57",
   "metadata": {},
   "source": [
    "There are 25553 rows and 5 columns in this Reactions dataset."
   ]
  },
  {
   "cell_type": "code",
   "execution_count": 95,
   "id": "e9cbb799-0215-464c-895a-e9a7cf8d521a",
   "metadata": {},
   "outputs": [
    {
     "data": {
      "text/plain": [
       "Unnamed: 0       0\n",
       "Content ID       0\n",
       "User ID       3019\n",
       "Type           980\n",
       "Datetime         0\n",
       "dtype: int64"
      ]
     },
     "execution_count": 95,
     "metadata": {},
     "output_type": "execute_result"
    }
   ],
   "source": [
    "df1.isnull().sum()"
   ]
  },
  {
   "cell_type": "markdown",
   "id": "c6e886ad-d217-462e-a7f1-331a6e3bda81",
   "metadata": {},
   "source": [
    "There are Null values in User ID and Type columns"
   ]
  },
  {
   "cell_type": "code",
   "execution_count": 96,
   "id": "3a2a5d78-ef30-4d6f-979c-93e50b9c3791",
   "metadata": {},
   "outputs": [],
   "source": [
    "df1.drop(columns=['User ID'],inplace=True)"
   ]
  },
  {
   "cell_type": "code",
   "execution_count": 97,
   "id": "057f1eb6-9b1b-484c-8276-61993cdc5474",
   "metadata": {},
   "outputs": [
    {
     "data": {
      "text/html": [
       "<div>\n",
       "<style scoped>\n",
       "    .dataframe tbody tr th:only-of-type {\n",
       "        vertical-align: middle;\n",
       "    }\n",
       "\n",
       "    .dataframe tbody tr th {\n",
       "        vertical-align: top;\n",
       "    }\n",
       "\n",
       "    .dataframe thead th {\n",
       "        text-align: right;\n",
       "    }\n",
       "</style>\n",
       "<table border=\"1\" class=\"dataframe\">\n",
       "  <thead>\n",
       "    <tr style=\"text-align: right;\">\n",
       "      <th></th>\n",
       "      <th>Unnamed: 0</th>\n",
       "      <th>Content ID</th>\n",
       "      <th>Type</th>\n",
       "      <th>Datetime</th>\n",
       "    </tr>\n",
       "  </thead>\n",
       "  <tbody>\n",
       "    <tr>\n",
       "      <th>0</th>\n",
       "      <td>0</td>\n",
       "      <td>97522e57-d9ab-4bd6-97bf-c24d952602d2</td>\n",
       "      <td>NaN</td>\n",
       "      <td>2021-04-22 15:17:15</td>\n",
       "    </tr>\n",
       "    <tr>\n",
       "      <th>1</th>\n",
       "      <td>1</td>\n",
       "      <td>97522e57-d9ab-4bd6-97bf-c24d952602d2</td>\n",
       "      <td>disgust</td>\n",
       "      <td>2020-11-07 09:43:50</td>\n",
       "    </tr>\n",
       "    <tr>\n",
       "      <th>2</th>\n",
       "      <td>2</td>\n",
       "      <td>97522e57-d9ab-4bd6-97bf-c24d952602d2</td>\n",
       "      <td>dislike</td>\n",
       "      <td>2021-06-17 12:22:51</td>\n",
       "    </tr>\n",
       "    <tr>\n",
       "      <th>3</th>\n",
       "      <td>3</td>\n",
       "      <td>97522e57-d9ab-4bd6-97bf-c24d952602d2</td>\n",
       "      <td>scared</td>\n",
       "      <td>2021-04-18 05:13:58</td>\n",
       "    </tr>\n",
       "    <tr>\n",
       "      <th>4</th>\n",
       "      <td>4</td>\n",
       "      <td>97522e57-d9ab-4bd6-97bf-c24d952602d2</td>\n",
       "      <td>disgust</td>\n",
       "      <td>2021-01-06 19:13:01</td>\n",
       "    </tr>\n",
       "  </tbody>\n",
       "</table>\n",
       "</div>"
      ],
      "text/plain": [
       "   Unnamed: 0                            Content ID     Type  \\\n",
       "0           0  97522e57-d9ab-4bd6-97bf-c24d952602d2      NaN   \n",
       "1           1  97522e57-d9ab-4bd6-97bf-c24d952602d2  disgust   \n",
       "2           2  97522e57-d9ab-4bd6-97bf-c24d952602d2  dislike   \n",
       "3           3  97522e57-d9ab-4bd6-97bf-c24d952602d2   scared   \n",
       "4           4  97522e57-d9ab-4bd6-97bf-c24d952602d2  disgust   \n",
       "\n",
       "              Datetime  \n",
       "0  2021-04-22 15:17:15  \n",
       "1  2020-11-07 09:43:50  \n",
       "2  2021-06-17 12:22:51  \n",
       "3  2021-04-18 05:13:58  \n",
       "4  2021-01-06 19:13:01  "
      ]
     },
     "execution_count": 97,
     "metadata": {},
     "output_type": "execute_result"
    }
   ],
   "source": [
    "df1.head()"
   ]
  },
  {
   "cell_type": "code",
   "execution_count": 98,
   "id": "8746405d-025a-4f55-a641-915e76e77c94",
   "metadata": {},
   "outputs": [
    {
     "data": {
      "text/plain": [
       "(25553, 4)"
      ]
     },
     "execution_count": 98,
     "metadata": {},
     "output_type": "execute_result"
    }
   ],
   "source": [
    "df1.shape"
   ]
  },
  {
   "cell_type": "code",
   "execution_count": 99,
   "id": "2238b2d4-37ae-4a2d-b3b3-d3fd2f39d199",
   "metadata": {},
   "outputs": [
    {
     "data": {
      "text/plain": [
       "Unnamed: 0      0\n",
       "Content ID      0\n",
       "Type          980\n",
       "Datetime        0\n",
       "dtype: int64"
      ]
     },
     "execution_count": 99,
     "metadata": {},
     "output_type": "execute_result"
    }
   ],
   "source": [
    "df1.isnull().sum()"
   ]
  },
  {
   "cell_type": "code",
   "execution_count": 100,
   "id": "f76501fc-a63f-4be7-987d-c2a2ba27f800",
   "metadata": {},
   "outputs": [],
   "source": [
    "df1.dropna(inplace=True)"
   ]
  },
  {
   "cell_type": "code",
   "execution_count": 101,
   "id": "1b76d4b1-6fa4-42ce-99eb-873320bc10b7",
   "metadata": {},
   "outputs": [
    {
     "data": {
      "text/plain": [
       "Unnamed: 0    0\n",
       "Content ID    0\n",
       "Type          0\n",
       "Datetime      0\n",
       "dtype: int64"
      ]
     },
     "execution_count": 101,
     "metadata": {},
     "output_type": "execute_result"
    }
   ],
   "source": [
    "df1.isnull().sum()"
   ]
  },
  {
   "cell_type": "code",
   "execution_count": 102,
   "id": "77f19946-d42b-4574-87e2-59294e014d52",
   "metadata": {},
   "outputs": [
    {
     "data": {
      "text/plain": [
       "(24573, 4)"
      ]
     },
     "execution_count": 102,
     "metadata": {},
     "output_type": "execute_result"
    }
   ],
   "source": [
    "df1.shape"
   ]
  },
  {
   "cell_type": "code",
   "execution_count": 103,
   "id": "23f09e51-f850-41de-aaeb-07e16f7257d2",
   "metadata": {},
   "outputs": [],
   "source": [
    "df1.rename(columns={\"Type\":\"Reactions Type\"},inplace=True)"
   ]
  },
  {
   "cell_type": "code",
   "execution_count": 104,
   "id": "68a9cf21-f5b4-433a-b3af-9550ac5341ee",
   "metadata": {},
   "outputs": [
    {
     "data": {
      "text/plain": [
       "16"
      ]
     },
     "execution_count": 104,
     "metadata": {},
     "output_type": "execute_result"
    }
   ],
   "source": [
    "len(df1['Reactions Type'].unique())"
   ]
  },
  {
   "cell_type": "code",
   "execution_count": 105,
   "id": "54ac96de-3e72-4d46-a17a-4fb73f6527e5",
   "metadata": {},
   "outputs": [
    {
     "data": {
      "text/html": [
       "<div>\n",
       "<style scoped>\n",
       "    .dataframe tbody tr th:only-of-type {\n",
       "        vertical-align: middle;\n",
       "    }\n",
       "\n",
       "    .dataframe tbody tr th {\n",
       "        vertical-align: top;\n",
       "    }\n",
       "\n",
       "    .dataframe thead th {\n",
       "        text-align: right;\n",
       "    }\n",
       "</style>\n",
       "<table border=\"1\" class=\"dataframe\">\n",
       "  <thead>\n",
       "    <tr style=\"text-align: right;\">\n",
       "      <th></th>\n",
       "      <th>Unnamed: 0</th>\n",
       "      <th>Content ID</th>\n",
       "      <th>Reactions Type</th>\n",
       "      <th>Datetime</th>\n",
       "    </tr>\n",
       "  </thead>\n",
       "  <tbody>\n",
       "    <tr>\n",
       "      <th>1</th>\n",
       "      <td>1</td>\n",
       "      <td>97522e57-d9ab-4bd6-97bf-c24d952602d2</td>\n",
       "      <td>disgust</td>\n",
       "      <td>2020-11-07 09:43:50</td>\n",
       "    </tr>\n",
       "    <tr>\n",
       "      <th>2</th>\n",
       "      <td>2</td>\n",
       "      <td>97522e57-d9ab-4bd6-97bf-c24d952602d2</td>\n",
       "      <td>dislike</td>\n",
       "      <td>2021-06-17 12:22:51</td>\n",
       "    </tr>\n",
       "    <tr>\n",
       "      <th>3</th>\n",
       "      <td>3</td>\n",
       "      <td>97522e57-d9ab-4bd6-97bf-c24d952602d2</td>\n",
       "      <td>scared</td>\n",
       "      <td>2021-04-18 05:13:58</td>\n",
       "    </tr>\n",
       "    <tr>\n",
       "      <th>4</th>\n",
       "      <td>4</td>\n",
       "      <td>97522e57-d9ab-4bd6-97bf-c24d952602d2</td>\n",
       "      <td>disgust</td>\n",
       "      <td>2021-01-06 19:13:01</td>\n",
       "    </tr>\n",
       "    <tr>\n",
       "      <th>5</th>\n",
       "      <td>5</td>\n",
       "      <td>97522e57-d9ab-4bd6-97bf-c24d952602d2</td>\n",
       "      <td>interested</td>\n",
       "      <td>2020-08-23 12:25:58</td>\n",
       "    </tr>\n",
       "  </tbody>\n",
       "</table>\n",
       "</div>"
      ],
      "text/plain": [
       "   Unnamed: 0                            Content ID Reactions Type  \\\n",
       "1           1  97522e57-d9ab-4bd6-97bf-c24d952602d2        disgust   \n",
       "2           2  97522e57-d9ab-4bd6-97bf-c24d952602d2        dislike   \n",
       "3           3  97522e57-d9ab-4bd6-97bf-c24d952602d2         scared   \n",
       "4           4  97522e57-d9ab-4bd6-97bf-c24d952602d2        disgust   \n",
       "5           5  97522e57-d9ab-4bd6-97bf-c24d952602d2     interested   \n",
       "\n",
       "              Datetime  \n",
       "1  2020-11-07 09:43:50  \n",
       "2  2021-06-17 12:22:51  \n",
       "3  2021-04-18 05:13:58  \n",
       "4  2021-01-06 19:13:01  \n",
       "5  2020-08-23 12:25:58  "
      ]
     },
     "execution_count": 105,
     "metadata": {},
     "output_type": "execute_result"
    }
   ],
   "source": [
    "df1.head()"
   ]
  },
  {
   "cell_type": "code",
   "execution_count": 106,
   "id": "4737ed1c-2a1d-4660-ab8a-136a444119b1",
   "metadata": {},
   "outputs": [
    {
     "data": {
      "text/plain": [
       "Unnamed: 0         int64\n",
       "Content ID        object\n",
       "Reactions Type    object\n",
       "Datetime          object\n",
       "dtype: object"
      ]
     },
     "execution_count": 106,
     "metadata": {},
     "output_type": "execute_result"
    }
   ],
   "source": [
    "df1.dtypes"
   ]
  },
  {
   "cell_type": "code",
   "execution_count": 107,
   "id": "03ac4449-50a5-4ab7-b66e-93d07ef850be",
   "metadata": {},
   "outputs": [],
   "source": [
    "df1['Datetime']=pd.to_datetime(df1['Datetime'])"
   ]
  },
  {
   "cell_type": "code",
   "execution_count": 108,
   "id": "5690a6d3-9647-4028-bfb1-172f6c49ba5d",
   "metadata": {},
   "outputs": [
    {
     "data": {
      "text/plain": [
       "Unnamed: 0                 int64\n",
       "Content ID                object\n",
       "Reactions Type            object\n",
       "Datetime          datetime64[ns]\n",
       "dtype: object"
      ]
     },
     "execution_count": 108,
     "metadata": {},
     "output_type": "execute_result"
    }
   ],
   "source": [
    "df1.dtypes"
   ]
  },
  {
   "cell_type": "code",
   "execution_count": 109,
   "id": "e50086d0-9a2d-46a4-a175-dbe5787b7dc4",
   "metadata": {},
   "outputs": [
    {
     "data": {
      "text/plain": [
       "(24573, 4)"
      ]
     },
     "execution_count": 109,
     "metadata": {},
     "output_type": "execute_result"
    }
   ],
   "source": [
    "df1.shape"
   ]
  },
  {
   "cell_type": "markdown",
   "id": "44d62ecb-695e-425b-941a-105625c580ed",
   "metadata": {},
   "source": [
    "changed the data type of Datetime from object to datetime64[ns]"
   ]
  },
  {
   "cell_type": "markdown",
   "id": "c3c0d393-5914-415a-ad24-7fc7a7e2ebbb",
   "metadata": {},
   "source": [
    "Operations on ReactoinTypes dataset."
   ]
  },
  {
   "cell_type": "code",
   "execution_count": 110,
   "id": "4eedb935-d84b-44c1-9375-83c6d18a4b75",
   "metadata": {},
   "outputs": [],
   "source": [
    "df2=pd.read_csv('/Users/phaneendrabathina/Downloads/ReactionTypes_orig.csv')"
   ]
  },
  {
   "cell_type": "code",
   "execution_count": 111,
   "id": "1f9abcf6-d467-4eb3-bb8f-8c8e8c5f99f7",
   "metadata": {},
   "outputs": [
    {
     "data": {
      "text/html": [
       "<div>\n",
       "<style scoped>\n",
       "    .dataframe tbody tr th:only-of-type {\n",
       "        vertical-align: middle;\n",
       "    }\n",
       "\n",
       "    .dataframe tbody tr th {\n",
       "        vertical-align: top;\n",
       "    }\n",
       "\n",
       "    .dataframe thead th {\n",
       "        text-align: right;\n",
       "    }\n",
       "</style>\n",
       "<table border=\"1\" class=\"dataframe\">\n",
       "  <thead>\n",
       "    <tr style=\"text-align: right;\">\n",
       "      <th></th>\n",
       "      <th>Unnamed: 0</th>\n",
       "      <th>Type</th>\n",
       "      <th>Sentiment</th>\n",
       "      <th>Score</th>\n",
       "    </tr>\n",
       "  </thead>\n",
       "  <tbody>\n",
       "    <tr>\n",
       "      <th>0</th>\n",
       "      <td>0</td>\n",
       "      <td>heart</td>\n",
       "      <td>positive</td>\n",
       "      <td>60</td>\n",
       "    </tr>\n",
       "    <tr>\n",
       "      <th>1</th>\n",
       "      <td>1</td>\n",
       "      <td>want</td>\n",
       "      <td>positive</td>\n",
       "      <td>70</td>\n",
       "    </tr>\n",
       "    <tr>\n",
       "      <th>2</th>\n",
       "      <td>2</td>\n",
       "      <td>disgust</td>\n",
       "      <td>negative</td>\n",
       "      <td>0</td>\n",
       "    </tr>\n",
       "    <tr>\n",
       "      <th>3</th>\n",
       "      <td>3</td>\n",
       "      <td>hate</td>\n",
       "      <td>negative</td>\n",
       "      <td>5</td>\n",
       "    </tr>\n",
       "    <tr>\n",
       "      <th>4</th>\n",
       "      <td>4</td>\n",
       "      <td>interested</td>\n",
       "      <td>positive</td>\n",
       "      <td>30</td>\n",
       "    </tr>\n",
       "  </tbody>\n",
       "</table>\n",
       "</div>"
      ],
      "text/plain": [
       "   Unnamed: 0        Type Sentiment  Score\n",
       "0           0       heart  positive     60\n",
       "1           1        want  positive     70\n",
       "2           2     disgust  negative      0\n",
       "3           3        hate  negative      5\n",
       "4           4  interested  positive     30"
      ]
     },
     "execution_count": 111,
     "metadata": {},
     "output_type": "execute_result"
    }
   ],
   "source": [
    "df2.head()"
   ]
  },
  {
   "cell_type": "code",
   "execution_count": 112,
   "id": "0fa46d5a-8f18-4389-8029-0eb76e33fff0",
   "metadata": {},
   "outputs": [
    {
     "data": {
      "text/plain": [
       "(16, 4)"
      ]
     },
     "execution_count": 112,
     "metadata": {},
     "output_type": "execute_result"
    }
   ],
   "source": [
    "df2.shape"
   ]
  },
  {
   "cell_type": "code",
   "execution_count": 113,
   "id": "44f51dfb-b500-4296-ba0e-c87fb3464be5",
   "metadata": {},
   "outputs": [
    {
     "data": {
      "text/plain": [
       "Unnamed: 0    0\n",
       "Type          0\n",
       "Sentiment     0\n",
       "Score         0\n",
       "dtype: int64"
      ]
     },
     "execution_count": 113,
     "metadata": {},
     "output_type": "execute_result"
    }
   ],
   "source": [
    "df2.isnull().sum()"
   ]
  },
  {
   "cell_type": "code",
   "execution_count": 114,
   "id": "b98ae116-6195-4e5b-b96f-3c7b6bcd1c70",
   "metadata": {},
   "outputs": [],
   "source": [
    "df2.rename(columns={\"Type\":\"Reactions Type\"},inplace=True)"
   ]
  },
  {
   "cell_type": "code",
   "execution_count": 115,
   "id": "b3d42276-5b28-471d-a7fb-f548dbc97a87",
   "metadata": {},
   "outputs": [
    {
     "data": {
      "text/plain": [
       "Unnamed: 0         int64\n",
       "Reactions Type    object\n",
       "Sentiment         object\n",
       "Score              int64\n",
       "dtype: object"
      ]
     },
     "execution_count": 115,
     "metadata": {},
     "output_type": "execute_result"
    }
   ],
   "source": [
    "df2.dtypes"
   ]
  },
  {
   "cell_type": "code",
   "execution_count": 116,
   "id": "8ca62f48-aa57-47c4-9034-d63cb0fea46b",
   "metadata": {},
   "outputs": [],
   "source": [
    "new_file=pd.merge(df1,df,how=\"left\",on=\"Content ID\")"
   ]
  },
  {
   "cell_type": "code",
   "execution_count": 117,
   "id": "82d0c516-b994-42f7-a28a-f66a86506aa3",
   "metadata": {},
   "outputs": [
    {
     "data": {
      "text/html": [
       "<div>\n",
       "<style scoped>\n",
       "    .dataframe tbody tr th:only-of-type {\n",
       "        vertical-align: middle;\n",
       "    }\n",
       "\n",
       "    .dataframe tbody tr th {\n",
       "        vertical-align: top;\n",
       "    }\n",
       "\n",
       "    .dataframe thead th {\n",
       "        text-align: right;\n",
       "    }\n",
       "</style>\n",
       "<table border=\"1\" class=\"dataframe\">\n",
       "  <thead>\n",
       "    <tr style=\"text-align: right;\">\n",
       "      <th></th>\n",
       "      <th>Unnamed: 0_x</th>\n",
       "      <th>Content ID</th>\n",
       "      <th>Reactions Type</th>\n",
       "      <th>Datetime</th>\n",
       "      <th>Unnamed: 0_y</th>\n",
       "      <th>Content Type</th>\n",
       "      <th>Category</th>\n",
       "    </tr>\n",
       "  </thead>\n",
       "  <tbody>\n",
       "    <tr>\n",
       "      <th>0</th>\n",
       "      <td>1</td>\n",
       "      <td>97522e57-d9ab-4bd6-97bf-c24d952602d2</td>\n",
       "      <td>disgust</td>\n",
       "      <td>2020-11-07 09:43:50</td>\n",
       "      <td>0</td>\n",
       "      <td>photo</td>\n",
       "      <td>Studying</td>\n",
       "    </tr>\n",
       "    <tr>\n",
       "      <th>1</th>\n",
       "      <td>2</td>\n",
       "      <td>97522e57-d9ab-4bd6-97bf-c24d952602d2</td>\n",
       "      <td>dislike</td>\n",
       "      <td>2021-06-17 12:22:51</td>\n",
       "      <td>0</td>\n",
       "      <td>photo</td>\n",
       "      <td>Studying</td>\n",
       "    </tr>\n",
       "    <tr>\n",
       "      <th>2</th>\n",
       "      <td>3</td>\n",
       "      <td>97522e57-d9ab-4bd6-97bf-c24d952602d2</td>\n",
       "      <td>scared</td>\n",
       "      <td>2021-04-18 05:13:58</td>\n",
       "      <td>0</td>\n",
       "      <td>photo</td>\n",
       "      <td>Studying</td>\n",
       "    </tr>\n",
       "    <tr>\n",
       "      <th>3</th>\n",
       "      <td>4</td>\n",
       "      <td>97522e57-d9ab-4bd6-97bf-c24d952602d2</td>\n",
       "      <td>disgust</td>\n",
       "      <td>2021-01-06 19:13:01</td>\n",
       "      <td>0</td>\n",
       "      <td>photo</td>\n",
       "      <td>Studying</td>\n",
       "    </tr>\n",
       "    <tr>\n",
       "      <th>4</th>\n",
       "      <td>5</td>\n",
       "      <td>97522e57-d9ab-4bd6-97bf-c24d952602d2</td>\n",
       "      <td>interested</td>\n",
       "      <td>2020-08-23 12:25:58</td>\n",
       "      <td>0</td>\n",
       "      <td>photo</td>\n",
       "      <td>Studying</td>\n",
       "    </tr>\n",
       "  </tbody>\n",
       "</table>\n",
       "</div>"
      ],
      "text/plain": [
       "   Unnamed: 0_x                            Content ID Reactions Type  \\\n",
       "0             1  97522e57-d9ab-4bd6-97bf-c24d952602d2        disgust   \n",
       "1             2  97522e57-d9ab-4bd6-97bf-c24d952602d2        dislike   \n",
       "2             3  97522e57-d9ab-4bd6-97bf-c24d952602d2         scared   \n",
       "3             4  97522e57-d9ab-4bd6-97bf-c24d952602d2        disgust   \n",
       "4             5  97522e57-d9ab-4bd6-97bf-c24d952602d2     interested   \n",
       "\n",
       "             Datetime  Unnamed: 0_y Content Type  Category  \n",
       "0 2020-11-07 09:43:50             0        photo  Studying  \n",
       "1 2021-06-17 12:22:51             0        photo  Studying  \n",
       "2 2021-04-18 05:13:58             0        photo  Studying  \n",
       "3 2021-01-06 19:13:01             0        photo  Studying  \n",
       "4 2020-08-23 12:25:58             0        photo  Studying  "
      ]
     },
     "execution_count": 117,
     "metadata": {},
     "output_type": "execute_result"
    }
   ],
   "source": [
    "new_file.head()"
   ]
  },
  {
   "cell_type": "code",
   "execution_count": 118,
   "id": "90ba6ba1-055a-47a0-89e6-fd57c126bef0",
   "metadata": {},
   "outputs": [
    {
     "data": {
      "text/plain": [
       "(24573, 7)"
      ]
     },
     "execution_count": 118,
     "metadata": {},
     "output_type": "execute_result"
    }
   ],
   "source": [
    "new_file.shape"
   ]
  },
  {
   "cell_type": "code",
   "execution_count": 119,
   "id": "f285abab-3c77-4120-9d0e-5767c84d4af7",
   "metadata": {},
   "outputs": [],
   "source": [
    "new_file.drop(columns=['Unnamed: 0_y'],inplace=True)"
   ]
  },
  {
   "cell_type": "code",
   "execution_count": 120,
   "id": "ca9dbf12-e694-41c1-90e2-a21f39650d54",
   "metadata": {},
   "outputs": [
    {
     "data": {
      "text/html": [
       "<div>\n",
       "<style scoped>\n",
       "    .dataframe tbody tr th:only-of-type {\n",
       "        vertical-align: middle;\n",
       "    }\n",
       "\n",
       "    .dataframe tbody tr th {\n",
       "        vertical-align: top;\n",
       "    }\n",
       "\n",
       "    .dataframe thead th {\n",
       "        text-align: right;\n",
       "    }\n",
       "</style>\n",
       "<table border=\"1\" class=\"dataframe\">\n",
       "  <thead>\n",
       "    <tr style=\"text-align: right;\">\n",
       "      <th></th>\n",
       "      <th>Unnamed: 0_x</th>\n",
       "      <th>Content ID</th>\n",
       "      <th>Reactions Type</th>\n",
       "      <th>Datetime</th>\n",
       "      <th>Content Type</th>\n",
       "      <th>Category</th>\n",
       "    </tr>\n",
       "  </thead>\n",
       "  <tbody>\n",
       "    <tr>\n",
       "      <th>0</th>\n",
       "      <td>1</td>\n",
       "      <td>97522e57-d9ab-4bd6-97bf-c24d952602d2</td>\n",
       "      <td>disgust</td>\n",
       "      <td>2020-11-07 09:43:50</td>\n",
       "      <td>photo</td>\n",
       "      <td>Studying</td>\n",
       "    </tr>\n",
       "    <tr>\n",
       "      <th>1</th>\n",
       "      <td>2</td>\n",
       "      <td>97522e57-d9ab-4bd6-97bf-c24d952602d2</td>\n",
       "      <td>dislike</td>\n",
       "      <td>2021-06-17 12:22:51</td>\n",
       "      <td>photo</td>\n",
       "      <td>Studying</td>\n",
       "    </tr>\n",
       "    <tr>\n",
       "      <th>2</th>\n",
       "      <td>3</td>\n",
       "      <td>97522e57-d9ab-4bd6-97bf-c24d952602d2</td>\n",
       "      <td>scared</td>\n",
       "      <td>2021-04-18 05:13:58</td>\n",
       "      <td>photo</td>\n",
       "      <td>Studying</td>\n",
       "    </tr>\n",
       "    <tr>\n",
       "      <th>3</th>\n",
       "      <td>4</td>\n",
       "      <td>97522e57-d9ab-4bd6-97bf-c24d952602d2</td>\n",
       "      <td>disgust</td>\n",
       "      <td>2021-01-06 19:13:01</td>\n",
       "      <td>photo</td>\n",
       "      <td>Studying</td>\n",
       "    </tr>\n",
       "    <tr>\n",
       "      <th>4</th>\n",
       "      <td>5</td>\n",
       "      <td>97522e57-d9ab-4bd6-97bf-c24d952602d2</td>\n",
       "      <td>interested</td>\n",
       "      <td>2020-08-23 12:25:58</td>\n",
       "      <td>photo</td>\n",
       "      <td>Studying</td>\n",
       "    </tr>\n",
       "  </tbody>\n",
       "</table>\n",
       "</div>"
      ],
      "text/plain": [
       "   Unnamed: 0_x                            Content ID Reactions Type  \\\n",
       "0             1  97522e57-d9ab-4bd6-97bf-c24d952602d2        disgust   \n",
       "1             2  97522e57-d9ab-4bd6-97bf-c24d952602d2        dislike   \n",
       "2             3  97522e57-d9ab-4bd6-97bf-c24d952602d2         scared   \n",
       "3             4  97522e57-d9ab-4bd6-97bf-c24d952602d2        disgust   \n",
       "4             5  97522e57-d9ab-4bd6-97bf-c24d952602d2     interested   \n",
       "\n",
       "             Datetime Content Type  Category  \n",
       "0 2020-11-07 09:43:50        photo  Studying  \n",
       "1 2021-06-17 12:22:51        photo  Studying  \n",
       "2 2021-04-18 05:13:58        photo  Studying  \n",
       "3 2021-01-06 19:13:01        photo  Studying  \n",
       "4 2020-08-23 12:25:58        photo  Studying  "
      ]
     },
     "execution_count": 120,
     "metadata": {},
     "output_type": "execute_result"
    }
   ],
   "source": [
    "new_file.head()"
   ]
  },
  {
   "cell_type": "code",
   "execution_count": 121,
   "id": "828ed366-4c32-45f8-924d-3f3a5a7d3013",
   "metadata": {},
   "outputs": [
    {
     "data": {
      "text/plain": [
       "(24573, 6)"
      ]
     },
     "execution_count": 121,
     "metadata": {},
     "output_type": "execute_result"
    }
   ],
   "source": [
    "new_file.shape"
   ]
  },
  {
   "cell_type": "code",
   "execution_count": 122,
   "id": "f090824a-4276-40c7-9830-da54ebf9960f",
   "metadata": {},
   "outputs": [
    {
     "data": {
      "text/plain": [
       "40"
      ]
     },
     "execution_count": 122,
     "metadata": {},
     "output_type": "execute_result"
    }
   ],
   "source": [
    "len(new_file['Category'].unique())"
   ]
  },
  {
   "cell_type": "code",
   "execution_count": 123,
   "id": "60e26660-23e9-4968-b945-5970c046e2e7",
   "metadata": {},
   "outputs": [],
   "source": [
    "cleaned_file=pd.merge(new_file,df2,how=\"left\",on=\"Reactions Type\")"
   ]
  },
  {
   "cell_type": "code",
   "execution_count": 124,
   "id": "5801fde1-2caf-4bd7-b2fb-28dd2f85e50a",
   "metadata": {},
   "outputs": [
    {
     "data": {
      "text/html": [
       "<div>\n",
       "<style scoped>\n",
       "    .dataframe tbody tr th:only-of-type {\n",
       "        vertical-align: middle;\n",
       "    }\n",
       "\n",
       "    .dataframe tbody tr th {\n",
       "        vertical-align: top;\n",
       "    }\n",
       "\n",
       "    .dataframe thead th {\n",
       "        text-align: right;\n",
       "    }\n",
       "</style>\n",
       "<table border=\"1\" class=\"dataframe\">\n",
       "  <thead>\n",
       "    <tr style=\"text-align: right;\">\n",
       "      <th></th>\n",
       "      <th>Unnamed: 0_x</th>\n",
       "      <th>Content ID</th>\n",
       "      <th>Reactions Type</th>\n",
       "      <th>Datetime</th>\n",
       "      <th>Content Type</th>\n",
       "      <th>Category</th>\n",
       "      <th>Unnamed: 0</th>\n",
       "      <th>Sentiment</th>\n",
       "      <th>Score</th>\n",
       "    </tr>\n",
       "  </thead>\n",
       "  <tbody>\n",
       "    <tr>\n",
       "      <th>0</th>\n",
       "      <td>1</td>\n",
       "      <td>97522e57-d9ab-4bd6-97bf-c24d952602d2</td>\n",
       "      <td>disgust</td>\n",
       "      <td>2020-11-07 09:43:50</td>\n",
       "      <td>photo</td>\n",
       "      <td>Studying</td>\n",
       "      <td>2</td>\n",
       "      <td>negative</td>\n",
       "      <td>0</td>\n",
       "    </tr>\n",
       "    <tr>\n",
       "      <th>1</th>\n",
       "      <td>2</td>\n",
       "      <td>97522e57-d9ab-4bd6-97bf-c24d952602d2</td>\n",
       "      <td>dislike</td>\n",
       "      <td>2021-06-17 12:22:51</td>\n",
       "      <td>photo</td>\n",
       "      <td>Studying</td>\n",
       "      <td>11</td>\n",
       "      <td>negative</td>\n",
       "      <td>10</td>\n",
       "    </tr>\n",
       "    <tr>\n",
       "      <th>2</th>\n",
       "      <td>3</td>\n",
       "      <td>97522e57-d9ab-4bd6-97bf-c24d952602d2</td>\n",
       "      <td>scared</td>\n",
       "      <td>2021-04-18 05:13:58</td>\n",
       "      <td>photo</td>\n",
       "      <td>Studying</td>\n",
       "      <td>14</td>\n",
       "      <td>negative</td>\n",
       "      <td>15</td>\n",
       "    </tr>\n",
       "    <tr>\n",
       "      <th>3</th>\n",
       "      <td>4</td>\n",
       "      <td>97522e57-d9ab-4bd6-97bf-c24d952602d2</td>\n",
       "      <td>disgust</td>\n",
       "      <td>2021-01-06 19:13:01</td>\n",
       "      <td>photo</td>\n",
       "      <td>Studying</td>\n",
       "      <td>2</td>\n",
       "      <td>negative</td>\n",
       "      <td>0</td>\n",
       "    </tr>\n",
       "    <tr>\n",
       "      <th>4</th>\n",
       "      <td>5</td>\n",
       "      <td>97522e57-d9ab-4bd6-97bf-c24d952602d2</td>\n",
       "      <td>interested</td>\n",
       "      <td>2020-08-23 12:25:58</td>\n",
       "      <td>photo</td>\n",
       "      <td>Studying</td>\n",
       "      <td>4</td>\n",
       "      <td>positive</td>\n",
       "      <td>30</td>\n",
       "    </tr>\n",
       "  </tbody>\n",
       "</table>\n",
       "</div>"
      ],
      "text/plain": [
       "   Unnamed: 0_x                            Content ID Reactions Type  \\\n",
       "0             1  97522e57-d9ab-4bd6-97bf-c24d952602d2        disgust   \n",
       "1             2  97522e57-d9ab-4bd6-97bf-c24d952602d2        dislike   \n",
       "2             3  97522e57-d9ab-4bd6-97bf-c24d952602d2         scared   \n",
       "3             4  97522e57-d9ab-4bd6-97bf-c24d952602d2        disgust   \n",
       "4             5  97522e57-d9ab-4bd6-97bf-c24d952602d2     interested   \n",
       "\n",
       "             Datetime Content Type  Category  Unnamed: 0 Sentiment  Score  \n",
       "0 2020-11-07 09:43:50        photo  Studying           2  negative      0  \n",
       "1 2021-06-17 12:22:51        photo  Studying          11  negative     10  \n",
       "2 2021-04-18 05:13:58        photo  Studying          14  negative     15  \n",
       "3 2021-01-06 19:13:01        photo  Studying           2  negative      0  \n",
       "4 2020-08-23 12:25:58        photo  Studying           4  positive     30  "
      ]
     },
     "execution_count": 124,
     "metadata": {},
     "output_type": "execute_result"
    }
   ],
   "source": [
    "cleaned_file.head()"
   ]
  },
  {
   "cell_type": "code",
   "execution_count": 125,
   "id": "f91463c1-cccf-4732-86a9-3e8b2999665e",
   "metadata": {},
   "outputs": [
    {
     "data": {
      "text/plain": [
       "(24573, 9)"
      ]
     },
     "execution_count": 125,
     "metadata": {},
     "output_type": "execute_result"
    }
   ],
   "source": [
    "cleaned_file.shape"
   ]
  },
  {
   "cell_type": "code",
   "execution_count": 126,
   "id": "df9d7507-61fa-4a58-bf6d-fe742165f0c1",
   "metadata": {},
   "outputs": [],
   "source": [
    "cleaned_file.drop(columns=['Unnamed: 0'],inplace=True)"
   ]
  },
  {
   "cell_type": "code",
   "execution_count": 127,
   "id": "9438c1a3-abdd-44c4-b7e2-44f24b18c554",
   "metadata": {},
   "outputs": [
    {
     "data": {
      "text/html": [
       "<div>\n",
       "<style scoped>\n",
       "    .dataframe tbody tr th:only-of-type {\n",
       "        vertical-align: middle;\n",
       "    }\n",
       "\n",
       "    .dataframe tbody tr th {\n",
       "        vertical-align: top;\n",
       "    }\n",
       "\n",
       "    .dataframe thead th {\n",
       "        text-align: right;\n",
       "    }\n",
       "</style>\n",
       "<table border=\"1\" class=\"dataframe\">\n",
       "  <thead>\n",
       "    <tr style=\"text-align: right;\">\n",
       "      <th></th>\n",
       "      <th>Unnamed: 0_x</th>\n",
       "      <th>Content ID</th>\n",
       "      <th>Reactions Type</th>\n",
       "      <th>Datetime</th>\n",
       "      <th>Content Type</th>\n",
       "      <th>Category</th>\n",
       "      <th>Sentiment</th>\n",
       "      <th>Score</th>\n",
       "    </tr>\n",
       "  </thead>\n",
       "  <tbody>\n",
       "    <tr>\n",
       "      <th>0</th>\n",
       "      <td>1</td>\n",
       "      <td>97522e57-d9ab-4bd6-97bf-c24d952602d2</td>\n",
       "      <td>disgust</td>\n",
       "      <td>2020-11-07 09:43:50</td>\n",
       "      <td>photo</td>\n",
       "      <td>Studying</td>\n",
       "      <td>negative</td>\n",
       "      <td>0</td>\n",
       "    </tr>\n",
       "    <tr>\n",
       "      <th>1</th>\n",
       "      <td>2</td>\n",
       "      <td>97522e57-d9ab-4bd6-97bf-c24d952602d2</td>\n",
       "      <td>dislike</td>\n",
       "      <td>2021-06-17 12:22:51</td>\n",
       "      <td>photo</td>\n",
       "      <td>Studying</td>\n",
       "      <td>negative</td>\n",
       "      <td>10</td>\n",
       "    </tr>\n",
       "    <tr>\n",
       "      <th>2</th>\n",
       "      <td>3</td>\n",
       "      <td>97522e57-d9ab-4bd6-97bf-c24d952602d2</td>\n",
       "      <td>scared</td>\n",
       "      <td>2021-04-18 05:13:58</td>\n",
       "      <td>photo</td>\n",
       "      <td>Studying</td>\n",
       "      <td>negative</td>\n",
       "      <td>15</td>\n",
       "    </tr>\n",
       "    <tr>\n",
       "      <th>3</th>\n",
       "      <td>4</td>\n",
       "      <td>97522e57-d9ab-4bd6-97bf-c24d952602d2</td>\n",
       "      <td>disgust</td>\n",
       "      <td>2021-01-06 19:13:01</td>\n",
       "      <td>photo</td>\n",
       "      <td>Studying</td>\n",
       "      <td>negative</td>\n",
       "      <td>0</td>\n",
       "    </tr>\n",
       "    <tr>\n",
       "      <th>4</th>\n",
       "      <td>5</td>\n",
       "      <td>97522e57-d9ab-4bd6-97bf-c24d952602d2</td>\n",
       "      <td>interested</td>\n",
       "      <td>2020-08-23 12:25:58</td>\n",
       "      <td>photo</td>\n",
       "      <td>Studying</td>\n",
       "      <td>positive</td>\n",
       "      <td>30</td>\n",
       "    </tr>\n",
       "  </tbody>\n",
       "</table>\n",
       "</div>"
      ],
      "text/plain": [
       "   Unnamed: 0_x                            Content ID Reactions Type  \\\n",
       "0             1  97522e57-d9ab-4bd6-97bf-c24d952602d2        disgust   \n",
       "1             2  97522e57-d9ab-4bd6-97bf-c24d952602d2        dislike   \n",
       "2             3  97522e57-d9ab-4bd6-97bf-c24d952602d2         scared   \n",
       "3             4  97522e57-d9ab-4bd6-97bf-c24d952602d2        disgust   \n",
       "4             5  97522e57-d9ab-4bd6-97bf-c24d952602d2     interested   \n",
       "\n",
       "             Datetime Content Type  Category Sentiment  Score  \n",
       "0 2020-11-07 09:43:50        photo  Studying  negative      0  \n",
       "1 2021-06-17 12:22:51        photo  Studying  negative     10  \n",
       "2 2021-04-18 05:13:58        photo  Studying  negative     15  \n",
       "3 2021-01-06 19:13:01        photo  Studying  negative      0  \n",
       "4 2020-08-23 12:25:58        photo  Studying  positive     30  "
      ]
     },
     "execution_count": 127,
     "metadata": {},
     "output_type": "execute_result"
    }
   ],
   "source": [
    "cleaned_file.head()"
   ]
  },
  {
   "cell_type": "code",
   "execution_count": 128,
   "id": "a83cc425-988f-43be-bc4c-e0d63761e76f",
   "metadata": {},
   "outputs": [],
   "source": [
    "cleaned_file.drop(columns=['Unnamed: 0_x'],inplace=True)"
   ]
  },
  {
   "cell_type": "code",
   "execution_count": 129,
   "id": "a71a986d-e0bc-4113-aacc-048f32e748a9",
   "metadata": {},
   "outputs": [
    {
     "data": {
      "text/html": [
       "<div>\n",
       "<style scoped>\n",
       "    .dataframe tbody tr th:only-of-type {\n",
       "        vertical-align: middle;\n",
       "    }\n",
       "\n",
       "    .dataframe tbody tr th {\n",
       "        vertical-align: top;\n",
       "    }\n",
       "\n",
       "    .dataframe thead th {\n",
       "        text-align: right;\n",
       "    }\n",
       "</style>\n",
       "<table border=\"1\" class=\"dataframe\">\n",
       "  <thead>\n",
       "    <tr style=\"text-align: right;\">\n",
       "      <th></th>\n",
       "      <th>Content ID</th>\n",
       "      <th>Reactions Type</th>\n",
       "      <th>Datetime</th>\n",
       "      <th>Content Type</th>\n",
       "      <th>Category</th>\n",
       "      <th>Sentiment</th>\n",
       "      <th>Score</th>\n",
       "    </tr>\n",
       "  </thead>\n",
       "  <tbody>\n",
       "    <tr>\n",
       "      <th>0</th>\n",
       "      <td>97522e57-d9ab-4bd6-97bf-c24d952602d2</td>\n",
       "      <td>disgust</td>\n",
       "      <td>2020-11-07 09:43:50</td>\n",
       "      <td>photo</td>\n",
       "      <td>Studying</td>\n",
       "      <td>negative</td>\n",
       "      <td>0</td>\n",
       "    </tr>\n",
       "    <tr>\n",
       "      <th>1</th>\n",
       "      <td>97522e57-d9ab-4bd6-97bf-c24d952602d2</td>\n",
       "      <td>dislike</td>\n",
       "      <td>2021-06-17 12:22:51</td>\n",
       "      <td>photo</td>\n",
       "      <td>Studying</td>\n",
       "      <td>negative</td>\n",
       "      <td>10</td>\n",
       "    </tr>\n",
       "    <tr>\n",
       "      <th>2</th>\n",
       "      <td>97522e57-d9ab-4bd6-97bf-c24d952602d2</td>\n",
       "      <td>scared</td>\n",
       "      <td>2021-04-18 05:13:58</td>\n",
       "      <td>photo</td>\n",
       "      <td>Studying</td>\n",
       "      <td>negative</td>\n",
       "      <td>15</td>\n",
       "    </tr>\n",
       "    <tr>\n",
       "      <th>3</th>\n",
       "      <td>97522e57-d9ab-4bd6-97bf-c24d952602d2</td>\n",
       "      <td>disgust</td>\n",
       "      <td>2021-01-06 19:13:01</td>\n",
       "      <td>photo</td>\n",
       "      <td>Studying</td>\n",
       "      <td>negative</td>\n",
       "      <td>0</td>\n",
       "    </tr>\n",
       "    <tr>\n",
       "      <th>4</th>\n",
       "      <td>97522e57-d9ab-4bd6-97bf-c24d952602d2</td>\n",
       "      <td>interested</td>\n",
       "      <td>2020-08-23 12:25:58</td>\n",
       "      <td>photo</td>\n",
       "      <td>Studying</td>\n",
       "      <td>positive</td>\n",
       "      <td>30</td>\n",
       "    </tr>\n",
       "  </tbody>\n",
       "</table>\n",
       "</div>"
      ],
      "text/plain": [
       "                             Content ID Reactions Type            Datetime  \\\n",
       "0  97522e57-d9ab-4bd6-97bf-c24d952602d2        disgust 2020-11-07 09:43:50   \n",
       "1  97522e57-d9ab-4bd6-97bf-c24d952602d2        dislike 2021-06-17 12:22:51   \n",
       "2  97522e57-d9ab-4bd6-97bf-c24d952602d2         scared 2021-04-18 05:13:58   \n",
       "3  97522e57-d9ab-4bd6-97bf-c24d952602d2        disgust 2021-01-06 19:13:01   \n",
       "4  97522e57-d9ab-4bd6-97bf-c24d952602d2     interested 2020-08-23 12:25:58   \n",
       "\n",
       "  Content Type  Category Sentiment  Score  \n",
       "0        photo  Studying  negative      0  \n",
       "1        photo  Studying  negative     10  \n",
       "2        photo  Studying  negative     15  \n",
       "3        photo  Studying  negative      0  \n",
       "4        photo  Studying  positive     30  "
      ]
     },
     "execution_count": 129,
     "metadata": {},
     "output_type": "execute_result"
    }
   ],
   "source": [
    "cleaned_file.head()"
   ]
  },
  {
   "cell_type": "code",
   "execution_count": 130,
   "id": "06640a7a-1414-4994-8872-f5c84b9c289f",
   "metadata": {},
   "outputs": [
    {
     "data": {
      "text/plain": [
       "(24573, 7)"
      ]
     },
     "execution_count": 130,
     "metadata": {},
     "output_type": "execute_result"
    }
   ],
   "source": [
    "cleaned_file.shape"
   ]
  },
  {
   "cell_type": "code",
   "execution_count": 131,
   "id": "5a7501a3-e312-463e-9d21-427ee4274a6c",
   "metadata": {},
   "outputs": [
    {
     "data": {
      "text/plain": [
       "Content ID        0\n",
       "Reactions Type    0\n",
       "Datetime          0\n",
       "Content Type      0\n",
       "Category          0\n",
       "Sentiment         0\n",
       "Score             0\n",
       "dtype: int64"
      ]
     },
     "execution_count": 131,
     "metadata": {},
     "output_type": "execute_result"
    }
   ],
   "source": [
    "cleaned_file.isnull().sum()"
   ]
  },
  {
   "cell_type": "code",
   "execution_count": 132,
   "id": "c4831b3f-550d-45eb-9116-ab53ce836c0a",
   "metadata": {},
   "outputs": [
    {
     "data": {
      "text/plain": [
       "40"
      ]
     },
     "execution_count": 132,
     "metadata": {},
     "output_type": "execute_result"
    }
   ],
   "source": [
    "len(cleaned_file['Category'].unique())"
   ]
  },
  {
   "cell_type": "code",
   "execution_count": 133,
   "id": "aba201cc-81ae-4072-8ed2-418a05cd754a",
   "metadata": {},
   "outputs": [],
   "source": [
    "cleaned_file.to_csv('/Users/phaneendrabathina/Desktop/CleanFile.csv')"
   ]
  },
  {
   "cell_type": "code",
   "execution_count": 134,
   "id": "6bd328a1-96c9-4f0a-9cad-6b6fbcde6761",
   "metadata": {},
   "outputs": [],
   "source": [
    "category_counts=cleaned_file['Category'].value_counts()"
   ]
  },
  {
   "cell_type": "code",
   "execution_count": 135,
   "id": "bebfc7b8-8d12-4525-8f76-5b1a764f6110",
   "metadata": {},
   "outputs": [
    {
     "name": "stdout",
     "output_type": "stream",
     "text": [
      "Category\n",
      "animals              1765\n",
      "healthy eating       1711\n",
      "technology           1667\n",
      "science              1662\n",
      "cooking              1640\n",
      "travel               1618\n",
      "food                 1606\n",
      "culture              1586\n",
      "education            1397\n",
      "soccer               1334\n",
      "tennis               1328\n",
      "studying             1303\n",
      "dogs                 1283\n",
      "fitness              1257\n",
      "veganism             1200\n",
      "public speaking      1157\n",
      "Fitness               138\n",
      "Science               116\n",
      "Animals                92\n",
      "Food                   91\n",
      "Soccer                 65\n",
      "\"soccer\"               58\n",
      "\"dogs\"                 55\n",
      "\"culture\"              49\n",
      "Studying               45\n",
      "Culture                41\n",
      "\"animals\"              40\n",
      "\"veganism\"             37\n",
      "Education              36\n",
      "Public Speaking        32\n",
      "Travel                 29\n",
      "\"public speaking\"      28\n",
      "\"technology\"           28\n",
      "\"cooking\"              24\n",
      "\"science\"              18\n",
      "\"studying\"             15\n",
      "Veganism               11\n",
      "Healthy Eating          6\n",
      "Technology              3\n",
      "\"food\"                  2\n",
      "Name: count, dtype: int64\n"
     ]
    }
   ],
   "source": [
    "print(category_counts)"
   ]
  },
  {
   "cell_type": "code",
   "execution_count": 136,
   "id": "82262714-1379-4236-a209-7c770f186c0e",
   "metadata": {},
   "outputs": [],
   "source": [
    "top_5_categories=category_counts.head(5)"
   ]
  },
  {
   "cell_type": "code",
   "execution_count": 137,
   "id": "1d9456fc-9b71-4c6e-bee7-080a10938b8c",
   "metadata": {},
   "outputs": [
    {
     "name": "stdout",
     "output_type": "stream",
     "text": [
      "Category\n",
      "animals           1765\n",
      "healthy eating    1711\n",
      "technology        1667\n",
      "science           1662\n",
      "cooking           1640\n",
      "Name: count, dtype: int64\n"
     ]
    }
   ],
   "source": [
    "print(top_5_categories)"
   ]
  },
  {
   "cell_type": "code",
   "execution_count": 138,
   "id": "6ca7ee24-9a9c-4a4d-8a3d-59d4593e9ea8",
   "metadata": {},
   "outputs": [],
   "source": [
    "top_5_categories.to_csv('/Users/phaneendrabathina/Desktop/Top5Categories.csv')"
   ]
  },
  {
   "cell_type": "code",
   "execution_count": 139,
   "id": "c07ebb4e-e043-43b0-9517-a0dab1a488e3",
   "metadata": {},
   "outputs": [],
   "source": [
    "#top_categories=cleaned_file.group_by('Category')['Score'].sum().reset_index()"
   ]
  },
  {
   "cell_type": "code",
   "execution_count": 140,
   "id": "79937ae4-6fa8-446c-b823-345490dde3fc",
   "metadata": {},
   "outputs": [
    {
     "data": {
      "text/html": [
       "<div>\n",
       "<style scoped>\n",
       "    .dataframe tbody tr th:only-of-type {\n",
       "        vertical-align: middle;\n",
       "    }\n",
       "\n",
       "    .dataframe tbody tr th {\n",
       "        vertical-align: top;\n",
       "    }\n",
       "\n",
       "    .dataframe thead th {\n",
       "        text-align: right;\n",
       "    }\n",
       "</style>\n",
       "<table border=\"1\" class=\"dataframe\">\n",
       "  <thead>\n",
       "    <tr style=\"text-align: right;\">\n",
       "      <th></th>\n",
       "      <th>Content ID</th>\n",
       "      <th>Reactions Type</th>\n",
       "      <th>Datetime</th>\n",
       "      <th>Content Type</th>\n",
       "      <th>Category</th>\n",
       "      <th>Sentiment</th>\n",
       "      <th>Score</th>\n",
       "    </tr>\n",
       "  </thead>\n",
       "  <tbody>\n",
       "    <tr>\n",
       "      <th>0</th>\n",
       "      <td>97522e57-d9ab-4bd6-97bf-c24d952602d2</td>\n",
       "      <td>disgust</td>\n",
       "      <td>2020-11-07 09:43:50</td>\n",
       "      <td>photo</td>\n",
       "      <td>Studying</td>\n",
       "      <td>negative</td>\n",
       "      <td>0</td>\n",
       "    </tr>\n",
       "    <tr>\n",
       "      <th>1</th>\n",
       "      <td>97522e57-d9ab-4bd6-97bf-c24d952602d2</td>\n",
       "      <td>dislike</td>\n",
       "      <td>2021-06-17 12:22:51</td>\n",
       "      <td>photo</td>\n",
       "      <td>Studying</td>\n",
       "      <td>negative</td>\n",
       "      <td>10</td>\n",
       "    </tr>\n",
       "    <tr>\n",
       "      <th>2</th>\n",
       "      <td>97522e57-d9ab-4bd6-97bf-c24d952602d2</td>\n",
       "      <td>scared</td>\n",
       "      <td>2021-04-18 05:13:58</td>\n",
       "      <td>photo</td>\n",
       "      <td>Studying</td>\n",
       "      <td>negative</td>\n",
       "      <td>15</td>\n",
       "    </tr>\n",
       "    <tr>\n",
       "      <th>3</th>\n",
       "      <td>97522e57-d9ab-4bd6-97bf-c24d952602d2</td>\n",
       "      <td>disgust</td>\n",
       "      <td>2021-01-06 19:13:01</td>\n",
       "      <td>photo</td>\n",
       "      <td>Studying</td>\n",
       "      <td>negative</td>\n",
       "      <td>0</td>\n",
       "    </tr>\n",
       "    <tr>\n",
       "      <th>4</th>\n",
       "      <td>97522e57-d9ab-4bd6-97bf-c24d952602d2</td>\n",
       "      <td>interested</td>\n",
       "      <td>2020-08-23 12:25:58</td>\n",
       "      <td>photo</td>\n",
       "      <td>Studying</td>\n",
       "      <td>positive</td>\n",
       "      <td>30</td>\n",
       "    </tr>\n",
       "  </tbody>\n",
       "</table>\n",
       "</div>"
      ],
      "text/plain": [
       "                             Content ID Reactions Type            Datetime  \\\n",
       "0  97522e57-d9ab-4bd6-97bf-c24d952602d2        disgust 2020-11-07 09:43:50   \n",
       "1  97522e57-d9ab-4bd6-97bf-c24d952602d2        dislike 2021-06-17 12:22:51   \n",
       "2  97522e57-d9ab-4bd6-97bf-c24d952602d2         scared 2021-04-18 05:13:58   \n",
       "3  97522e57-d9ab-4bd6-97bf-c24d952602d2        disgust 2021-01-06 19:13:01   \n",
       "4  97522e57-d9ab-4bd6-97bf-c24d952602d2     interested 2020-08-23 12:25:58   \n",
       "\n",
       "  Content Type  Category Sentiment  Score  \n",
       "0        photo  Studying  negative      0  \n",
       "1        photo  Studying  negative     10  \n",
       "2        photo  Studying  negative     15  \n",
       "3        photo  Studying  negative      0  \n",
       "4        photo  Studying  positive     30  "
      ]
     },
     "execution_count": 140,
     "metadata": {},
     "output_type": "execute_result"
    }
   ],
   "source": [
    "cleaned_file.head()"
   ]
  },
  {
   "cell_type": "code",
   "execution_count": 141,
   "id": "c87b7930-91ca-41ea-891a-a6d7bd41a566",
   "metadata": {},
   "outputs": [],
   "source": [
    "top_categories=cleaned_file.groupby('Category')['Score'].sum().reset_index()"
   ]
  },
  {
   "cell_type": "code",
   "execution_count": 142,
   "id": "a1beeeb0-9378-402e-a13b-e540b2e1c798",
   "metadata": {},
   "outputs": [],
   "source": [
    "top_5=top_categories.sort_values(by='Score',ascending=False).head(5)"
   ]
  },
  {
   "cell_type": "code",
   "execution_count": 143,
   "id": "07dff173-a036-428c-8d4b-1f32c55e0dab",
   "metadata": {},
   "outputs": [
    {
     "name": "stdout",
     "output_type": "stream",
     "text": [
      "          Category  Score\n",
      "24         animals  69548\n",
      "31  healthy eating  69067\n",
      "36      technology  67472\n",
      "33         science  66043\n",
      "25         cooking  63982\n"
     ]
    }
   ],
   "source": [
    "print(top_5)"
   ]
  },
  {
   "cell_type": "code",
   "execution_count": 144,
   "id": "46af392e-d684-437d-b7d0-8ba50efb69d2",
   "metadata": {},
   "outputs": [],
   "source": [
    "top_5.to_csv('/Users/phaneendrabathina/Desktop/Top5.csv')"
   ]
  },
  {
   "cell_type": "code",
   "execution_count": 160,
   "id": "1fe66349-da31-481a-bdd4-3f878e495556",
   "metadata": {},
   "outputs": [
    {
     "data": {
      "image/png": "[encoded data removed]",
      "text/plain": [
       "<Figure size 500x1000 with 1 Axes>"
      ]
     },
     "metadata": {},
     "output_type": "display_data"
    }
   ],
   "source": [
    "plt.figure(figsize=(5,10))\n",
    "plt.pie(top_5['Score'],labels=top_5['Category'],autopct='%1.1f%%')\n",
    "plt.title('Top five categories that people reacted for')\n",
    "plt.show()"
   ]
  },
  {
   "cell_type": "code",
   "execution_count": 167,
   "id": "c1f35dd0-6070-4517-8f60-aafd005769df",
   "metadata": {},
   "outputs": [
    {
     "data": {
      "image/png": "[encoded data removed]",
      "text/plain": [
       "<Figure size 640x480 with 1 Axes>"
      ]
     },
     "metadata": {},
     "output_type": "display_data"
    }
   ],
   "source": [
    "top_5.sort_values('Score',inplace=True)\n",
    "plt.barh(top_5['Category'],top_5['Score'])\n",
    "plt.xlim(60000,70000)\n",
    "plt.show()"
   ]
  },
  {
   "cell_type": "code",
   "execution_count": null,
   "id": "fea0aad8-5b83-4884-a7bd-ad5d2016143f",
   "metadata": {},
   "outputs": [],
   "source": []
  }
 ],
 "metadata": {
  "kernelspec": {
   "display_name": "Python 3 (ipykernel)",
   "language": "python",
   "name": "python3"
  },
  "language_info": {
   "codemirror_mode": {
    "name": "ipython",
    "version": 3
   },
   "file_extension": ".py",
   "mimetype": "text/x-python",
   "name": "python",
   "nbconvert_exporter": "python",
   "pygments_lexer": "ipython3",
   "version": "3.12.0"
  }
 },
 "nbformat": 4,
 "nbformat_minor": 5
}
